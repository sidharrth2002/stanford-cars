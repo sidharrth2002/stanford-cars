{
  "nbformat": 4,
  "nbformat_minor": 0,
  "metadata": {
    "colab": {
      "name": "Preprocessing.ipynb",
      "provenance": [],
      "collapsed_sections": [],
      "mount_file_id": "1CLS59jOGh_vvfbaLF6OXChflJa1FKakB",
      "authorship_tag": "ABX9TyNKsapRXgtRW7YaLYBlqcG0",
      "include_colab_link": true
    },
    "kernelspec": {
      "name": "python3",
      "display_name": "Python 3"
    },
    "language_info": {
      "name": "python"
    }
  },
  "cells": [
    {
      "cell_type": "markdown",
      "metadata": {
        "id": "view-in-github",
        "colab_type": "text"
      },
      "source": [
        "<a href=\"https://colab.research.google.com/github/sidharrth2002/stanford-cars/blob/main/Preprocessing.ipynb\" target=\"_parent\"><img src=\"https://colab.research.google.com/assets/colab-badge.svg\" alt=\"Open In Colab\"/></a>"
      ]
    },
    {
      "cell_type": "markdown",
      "source": [
        "## Preprocessing and Augmenting Stanford Cars\n",
        "\n",
        "Bounding boxes are provided by Stanford, we use them to crop and augment images before saving them in folders, that can be loaded in by Keras ImageDataGenerator."
      ],
      "metadata": {
        "id": "Q4t0qzyNEd7U"
      }
    },
    {
      "cell_type": "code",
      "execution_count": 79,
      "metadata": {
        "id": "csPYgg4hDxEY"
      },
      "outputs": [],
      "source": [
        "import tarfile\n",
        "import os\n",
        "import csv\n",
        "import matplotlib.pyplot as plt\n",
        "from scipy.io import loadmat\n",
        "import numpy as np\n",
        "from pathlib import Path\n",
        "import pandas as pd\n",
        "from sklearn.model_selection import train_test_split\n",
        "import PIL\n",
        "from tqdm import tqdm\n",
        "%matplotlib inline"
      ]
    },
    {
      "cell_type": "code",
      "source": [
        "!wget --no-check-certificate http://ai.stanford.edu/~jkrause/car196/cars_train.tgz \n",
        "\n",
        "train_tar = tarfile.open('cars_train.tgz')\n",
        "train_tar.extractall('./train') # specify which folder to extract to\n",
        "train_tar.close()"
      ],
      "metadata": {
        "colab": {
          "base_uri": "https://localhost:8080/"
        },
        "id": "4VaIlVUjEFO_",
        "outputId": "551cd7ca-e21e-49bf-a24a-c1f8b989ed8e"
      },
      "execution_count": 4,
      "outputs": [
        {
          "output_type": "stream",
          "name": "stdout",
          "text": [
            "--2022-04-30 10:44:28--  http://ai.stanford.edu/~jkrause/car196/cars_train.tgz\n",
            "Resolving ai.stanford.edu (ai.stanford.edu)... 171.64.68.10\n",
            "Connecting to ai.stanford.edu (ai.stanford.edu)|171.64.68.10|:80... connected.\n",
            "HTTP request sent, awaiting response... 200 OK\n",
            "Length: 979269282 (934M) [application/x-gzip]\n",
            "Saving to: ‘cars_train.tgz.1’\n",
            "\n",
            "cars_train.tgz.1    100%[===================>] 933.90M  38.5MB/s    in 28s     \n",
            "\n",
            "2022-04-30 10:44:56 (33.6 MB/s) - ‘cars_train.tgz.1’ saved [979269282/979269282]\n",
            "\n"
          ]
        }
      ]
    },
    {
      "cell_type": "code",
      "source": [
        "#Download full testing data (~933MB)\n",
        "!wget --no-check-certificate http://ai.stanford.edu/~jkrause/car196/cars_test.tgz #downloaded directory\n",
        "#extract testing data to tmp/test/\n",
        "test_tar = tarfile.open('cars_test.tgz')\n",
        "test_tar.extractall('./test') # specify which folder to extract to\n",
        "test_tar.close()"
      ],
      "metadata": {
        "colab": {
          "base_uri": "https://localhost:8080/"
        },
        "id": "tFGZpwGSEId8",
        "outputId": "803fb774-17f8-41a4-acfc-418caa2afa5f"
      },
      "execution_count": 6,
      "outputs": [
        {
          "output_type": "stream",
          "name": "stdout",
          "text": [
            "--2022-04-30 10:47:21--  http://ai.stanford.edu/~jkrause/car196/cars_test.tgz\n",
            "Resolving ai.stanford.edu (ai.stanford.edu)... 171.64.68.10\n",
            "Connecting to ai.stanford.edu (ai.stanford.edu)|171.64.68.10|:80... connected.\n",
            "HTTP request sent, awaiting response... 200 OK\n",
            "Length: 977350468 (932M) [application/x-gzip]\n",
            "Saving to: ‘cars_test.tgz’\n",
            "\n",
            "cars_test.tgz       100%[===================>] 932.07M  38.1MB/s    in 28s     \n",
            "\n",
            "2022-04-30 10:47:49 (33.3 MB/s) - ‘cars_test.tgz’ saved [977350468/977350468]\n",
            "\n"
          ]
        }
      ]
    },
    {
      "cell_type": "code",
      "source": [
        "#Download labels (~0.3MB)\n",
        "!wget --no-check-certificate https://ai.stanford.edu/~jkrause/cars/car_devkit.tgz -O car_devkit.tgz\n",
        "Path(\"/tmp/annos\").mkdir(parents=True, exist_ok=True)\n",
        "!wget --no-check-certificate \\\n",
        "    https://people.ucsc.edu/~jwang402/carslabel/anno_test.csv \\\n",
        "    -O anno_test.csv\n",
        "#extract labels to /tmp/labels/\n",
        "label_tar = tarfile.open('car_devkit.tgz')\n",
        "label_tar.extractall('labels') # specify which folder to extract to\n",
        "label_tar.close()"
      ],
      "metadata": {
        "colab": {
          "base_uri": "https://localhost:8080/"
        },
        "id": "8_mAe66bFQlO",
        "outputId": "6b260783-db3f-4251-cc55-c0186074929f"
      },
      "execution_count": 9,
      "outputs": [
        {
          "output_type": "stream",
          "name": "stdout",
          "text": [
            "--2022-04-30 10:49:59--  https://ai.stanford.edu/~jkrause/cars/car_devkit.tgz\n",
            "Resolving ai.stanford.edu (ai.stanford.edu)... 171.64.68.10\n",
            "Connecting to ai.stanford.edu (ai.stanford.edu)|171.64.68.10|:443... connected.\n",
            "HTTP request sent, awaiting response... 200 OK\n",
            "Length: 330960 (323K) [application/x-gzip]\n",
            "Saving to: ‘car_devkit.tgz’\n",
            "\n",
            "car_devkit.tgz      100%[===================>] 323.20K   505KB/s    in 0.6s    \n",
            "\n",
            "2022-04-30 10:50:00 (505 KB/s) - ‘car_devkit.tgz’ saved [330960/330960]\n",
            "\n",
            "--2022-04-30 10:50:00--  https://people.ucsc.edu/~jwang402/carslabel/anno_test.csv\n",
            "Resolving people.ucsc.edu (people.ucsc.edu)... 128.114.119.88\n",
            "Connecting to people.ucsc.edu (people.ucsc.edu)|128.114.119.88|:443... connected.\n",
            "HTTP request sent, awaiting response... 200 OK\n",
            "Length: 225299 (220K) [text/csv]\n",
            "Saving to: ‘anno_test.csv’\n",
            "\n",
            "anno_test.csv       100%[===================>] 220.02K   785KB/s    in 0.3s    \n",
            "\n",
            "2022-04-30 10:50:01 (785 KB/s) - ‘anno_test.csv’ saved [225299/225299]\n",
            "\n"
          ]
        }
      ]
    },
    {
      "cell_type": "code",
      "source": [
        "meta = loadmat('/content/labels/devkit/cars_meta.mat')\n",
        "meta.keys()"
      ],
      "metadata": {
        "colab": {
          "base_uri": "https://localhost:8080/"
        },
        "id": "7QrLZEDbFwyI",
        "outputId": "aad5d025-6be5-4887-e002-353e22f246fc"
      },
      "execution_count": 11,
      "outputs": [
        {
          "output_type": "execute_result",
          "data": {
            "text/plain": [
              "dict_keys(['__header__', '__version__', '__globals__', 'class_names'])"
            ]
          },
          "metadata": {},
          "execution_count": 11
        }
      ]
    },
    {
      "cell_type": "code",
      "source": [
        "classes = [[row.flat[0] for row in line] for line in meta['class_names'][0]]\n",
        "classDict = {}\n",
        "classCount = 1\n",
        "for c in classes:\n",
        "  classDict.update({classCount:c[0]})\n",
        "  classCount += 1\n",
        "counter = 0\n",
        "for num, model in classDict.items():\n",
        "  print(f'Car Model {num}: {model}')\n",
        "  counter += 1\n",
        "print('...')\n",
        "print(f'There are a total of {len(classDict.items())} cars')"
      ],
      "metadata": {
        "colab": {
          "base_uri": "https://localhost:8080/"
        },
        "id": "5510sLCLF8lZ",
        "outputId": "a766a1b0-d204-4c96-cb6f-0e19f3ea865c"
      },
      "execution_count": 42,
      "outputs": [
        {
          "output_type": "stream",
          "name": "stdout",
          "text": [
            "Car Model 1: AM General Hummer SUV 2000\n",
            "Car Model 2: Acura RL Sedan 2012\n",
            "Car Model 3: Acura TL Sedan 2012\n",
            "Car Model 4: Acura TL Type-S 2008\n",
            "Car Model 5: Acura TSX Sedan 2012\n",
            "Car Model 6: Acura Integra Type R 2001\n",
            "Car Model 7: Acura ZDX Hatchback 2012\n",
            "Car Model 8: Aston Martin V8 Vantage Convertible 2012\n",
            "Car Model 9: Aston Martin V8 Vantage Coupe 2012\n",
            "Car Model 10: Aston Martin Virage Convertible 2012\n",
            "Car Model 11: Aston Martin Virage Coupe 2012\n",
            "Car Model 12: Audi RS 4 Convertible 2008\n",
            "Car Model 13: Audi A5 Coupe 2012\n",
            "Car Model 14: Audi TTS Coupe 2012\n",
            "Car Model 15: Audi R8 Coupe 2012\n",
            "Car Model 16: Audi V8 Sedan 1994\n",
            "Car Model 17: Audi 100 Sedan 1994\n",
            "Car Model 18: Audi 100 Wagon 1994\n",
            "Car Model 19: Audi TT Hatchback 2011\n",
            "Car Model 20: Audi S6 Sedan 2011\n",
            "Car Model 21: Audi S5 Convertible 2012\n",
            "Car Model 22: Audi S5 Coupe 2012\n",
            "Car Model 23: Audi S4 Sedan 2012\n",
            "Car Model 24: Audi S4 Sedan 2007\n",
            "Car Model 25: Audi TT RS Coupe 2012\n",
            "Car Model 26: BMW ActiveHybrid 5 Sedan 2012\n",
            "Car Model 27: BMW 1 Series Convertible 2012\n",
            "Car Model 28: BMW 1 Series Coupe 2012\n",
            "Car Model 29: BMW 3 Series Sedan 2012\n",
            "Car Model 30: BMW 3 Series Wagon 2012\n",
            "Car Model 31: BMW 6 Series Convertible 2007\n",
            "Car Model 32: BMW X5 SUV 2007\n",
            "Car Model 33: BMW X6 SUV 2012\n",
            "Car Model 34: BMW M3 Coupe 2012\n",
            "Car Model 35: BMW M5 Sedan 2010\n",
            "Car Model 36: BMW M6 Convertible 2010\n",
            "Car Model 37: BMW X3 SUV 2012\n",
            "Car Model 38: BMW Z4 Convertible 2012\n",
            "Car Model 39: Bentley Continental Supersports Conv. Convertible 2012\n",
            "Car Model 40: Bentley Arnage Sedan 2009\n",
            "Car Model 41: Bentley Mulsanne Sedan 2011\n",
            "Car Model 42: Bentley Continental GT Coupe 2012\n",
            "Car Model 43: Bentley Continental GT Coupe 2007\n",
            "Car Model 44: Bentley Continental Flying Spur Sedan 2007\n",
            "Car Model 45: Bugatti Veyron 16.4 Convertible 2009\n",
            "Car Model 46: Bugatti Veyron 16.4 Coupe 2009\n",
            "Car Model 47: Buick Regal GS 2012\n",
            "Car Model 48: Buick Rainier SUV 2007\n",
            "Car Model 49: Buick Verano Sedan 2012\n",
            "Car Model 50: Buick Enclave SUV 2012\n",
            "Car Model 51: Cadillac CTS-V Sedan 2012\n",
            "Car Model 52: Cadillac SRX SUV 2012\n",
            "Car Model 53: Cadillac Escalade EXT Crew Cab 2007\n",
            "Car Model 54: Chevrolet Silverado 1500 Hybrid Crew Cab 2012\n",
            "Car Model 55: Chevrolet Corvette Convertible 2012\n",
            "Car Model 56: Chevrolet Corvette ZR1 2012\n",
            "Car Model 57: Chevrolet Corvette Ron Fellows Edition Z06 2007\n",
            "Car Model 58: Chevrolet Traverse SUV 2012\n",
            "Car Model 59: Chevrolet Camaro Convertible 2012\n",
            "Car Model 60: Chevrolet HHR SS 2010\n",
            "Car Model 61: Chevrolet Impala Sedan 2007\n",
            "Car Model 62: Chevrolet Tahoe Hybrid SUV 2012\n",
            "Car Model 63: Chevrolet Sonic Sedan 2012\n",
            "Car Model 64: Chevrolet Express Cargo Van 2007\n",
            "Car Model 65: Chevrolet Avalanche Crew Cab 2012\n",
            "Car Model 66: Chevrolet Cobalt SS 2010\n",
            "Car Model 67: Chevrolet Malibu Hybrid Sedan 2010\n",
            "Car Model 68: Chevrolet TrailBlazer SS 2009\n",
            "Car Model 69: Chevrolet Silverado 2500HD Regular Cab 2012\n",
            "Car Model 70: Chevrolet Silverado 1500 Classic Extended Cab 2007\n",
            "Car Model 71: Chevrolet Express Van 2007\n",
            "Car Model 72: Chevrolet Monte Carlo Coupe 2007\n",
            "Car Model 73: Chevrolet Malibu Sedan 2007\n",
            "Car Model 74: Chevrolet Silverado 1500 Extended Cab 2012\n",
            "Car Model 75: Chevrolet Silverado 1500 Regular Cab 2012\n",
            "Car Model 76: Chrysler Aspen SUV 2009\n",
            "Car Model 77: Chrysler Sebring Convertible 2010\n",
            "Car Model 78: Chrysler Town and Country Minivan 2012\n",
            "Car Model 79: Chrysler 300 SRT-8 2010\n",
            "Car Model 80: Chrysler Crossfire Convertible 2008\n",
            "Car Model 81: Chrysler PT Cruiser Convertible 2008\n",
            "Car Model 82: Daewoo Nubira Wagon 2002\n",
            "Car Model 83: Dodge Caliber Wagon 2012\n",
            "Car Model 84: Dodge Caliber Wagon 2007\n",
            "Car Model 85: Dodge Caravan Minivan 1997\n",
            "Car Model 86: Dodge Ram Pickup 3500 Crew Cab 2010\n",
            "Car Model 87: Dodge Ram Pickup 3500 Quad Cab 2009\n",
            "Car Model 88: Dodge Sprinter Cargo Van 2009\n",
            "Car Model 89: Dodge Journey SUV 2012\n",
            "Car Model 90: Dodge Dakota Crew Cab 2010\n",
            "Car Model 91: Dodge Dakota Club Cab 2007\n",
            "Car Model 92: Dodge Magnum Wagon 2008\n",
            "Car Model 93: Dodge Challenger SRT8 2011\n",
            "Car Model 94: Dodge Durango SUV 2012\n",
            "Car Model 95: Dodge Durango SUV 2007\n",
            "Car Model 96: Dodge Charger Sedan 2012\n",
            "Car Model 97: Dodge Charger SRT-8 2009\n",
            "Car Model 98: Eagle Talon Hatchback 1998\n",
            "Car Model 99: FIAT 500 Abarth 2012\n",
            "Car Model 100: FIAT 500 Convertible 2012\n",
            "Car Model 101: Ferrari FF Coupe 2012\n",
            "Car Model 102: Ferrari California Convertible 2012\n",
            "Car Model 103: Ferrari 458 Italia Convertible 2012\n",
            "Car Model 104: Ferrari 458 Italia Coupe 2012\n",
            "Car Model 105: Fisker Karma Sedan 2012\n",
            "Car Model 106: Ford F-450 Super Duty Crew Cab 2012\n",
            "Car Model 107: Ford Mustang Convertible 2007\n",
            "Car Model 108: Ford Freestar Minivan 2007\n",
            "Car Model 109: Ford Expedition EL SUV 2009\n",
            "Car Model 110: Ford Edge SUV 2012\n",
            "Car Model 111: Ford Ranger SuperCab 2011\n",
            "Car Model 112: Ford GT Coupe 2006\n",
            "Car Model 113: Ford F-150 Regular Cab 2012\n",
            "Car Model 114: Ford F-150 Regular Cab 2007\n",
            "Car Model 115: Ford Focus Sedan 2007\n",
            "Car Model 116: Ford E-Series Wagon Van 2012\n",
            "Car Model 117: Ford Fiesta Sedan 2012\n",
            "Car Model 118: GMC Terrain SUV 2012\n",
            "Car Model 119: GMC Savana Van 2012\n",
            "Car Model 120: GMC Yukon Hybrid SUV 2012\n",
            "Car Model 121: GMC Acadia SUV 2012\n",
            "Car Model 122: GMC Canyon Extended Cab 2012\n",
            "Car Model 123: Geo Metro Convertible 1993\n",
            "Car Model 124: HUMMER H3T Crew Cab 2010\n",
            "Car Model 125: HUMMER H2 SUT Crew Cab 2009\n",
            "Car Model 126: Honda Odyssey Minivan 2012\n",
            "Car Model 127: Honda Odyssey Minivan 2007\n",
            "Car Model 128: Honda Accord Coupe 2012\n",
            "Car Model 129: Honda Accord Sedan 2012\n",
            "Car Model 130: Hyundai Veloster Hatchback 2012\n",
            "Car Model 131: Hyundai Santa Fe SUV 2012\n",
            "Car Model 132: Hyundai Tucson SUV 2012\n",
            "Car Model 133: Hyundai Veracruz SUV 2012\n",
            "Car Model 134: Hyundai Sonata Hybrid Sedan 2012\n",
            "Car Model 135: Hyundai Elantra Sedan 2007\n",
            "Car Model 136: Hyundai Accent Sedan 2012\n",
            "Car Model 137: Hyundai Genesis Sedan 2012\n",
            "Car Model 138: Hyundai Sonata Sedan 2012\n",
            "Car Model 139: Hyundai Elantra Touring Hatchback 2012\n",
            "Car Model 140: Hyundai Azera Sedan 2012\n",
            "Car Model 141: Infiniti G Coupe IPL 2012\n",
            "Car Model 142: Infiniti QX56 SUV 2011\n",
            "Car Model 143: Isuzu Ascender SUV 2008\n",
            "Car Model 144: Jaguar XK XKR 2012\n",
            "Car Model 145: Jeep Patriot SUV 2012\n",
            "Car Model 146: Jeep Wrangler SUV 2012\n",
            "Car Model 147: Jeep Liberty SUV 2012\n",
            "Car Model 148: Jeep Grand Cherokee SUV 2012\n",
            "Car Model 149: Jeep Compass SUV 2012\n",
            "Car Model 150: Lamborghini Reventon Coupe 2008\n",
            "Car Model 151: Lamborghini Aventador Coupe 2012\n",
            "Car Model 152: Lamborghini Gallardo LP 570-4 Superleggera 2012\n",
            "Car Model 153: Lamborghini Diablo Coupe 2001\n",
            "Car Model 154: Land Rover Range Rover SUV 2012\n",
            "Car Model 155: Land Rover LR2 SUV 2012\n",
            "Car Model 156: Lincoln Town Car Sedan 2011\n",
            "Car Model 157: MINI Cooper Roadster Convertible 2012\n",
            "Car Model 158: Maybach Landaulet Convertible 2012\n",
            "Car Model 159: Mazda Tribute SUV 2011\n",
            "Car Model 160: McLaren MP4-12C Coupe 2012\n",
            "Car Model 161: Mercedes-Benz 300-Class Convertible 1993\n",
            "Car Model 162: Mercedes-Benz C-Class Sedan 2012\n",
            "Car Model 163: Mercedes-Benz SL-Class Coupe 2009\n",
            "Car Model 164: Mercedes-Benz E-Class Sedan 2012\n",
            "Car Model 165: Mercedes-Benz S-Class Sedan 2012\n",
            "Car Model 166: Mercedes-Benz Sprinter Van 2012\n",
            "Car Model 167: Mitsubishi Lancer Sedan 2012\n",
            "Car Model 168: Nissan Leaf Hatchback 2012\n",
            "Car Model 169: Nissan NV Passenger Van 2012\n",
            "Car Model 170: Nissan Juke Hatchback 2012\n",
            "Car Model 171: Nissan 240SX Coupe 1998\n",
            "Car Model 172: Plymouth Neon Coupe 1999\n",
            "Car Model 173: Porsche Panamera Sedan 2012\n",
            "Car Model 174: Ram C/V Cargo Van Minivan 2012\n",
            "Car Model 175: Rolls-Royce Phantom Drophead Coupe Convertible 2012\n",
            "Car Model 176: Rolls-Royce Ghost Sedan 2012\n",
            "Car Model 177: Rolls-Royce Phantom Sedan 2012\n",
            "Car Model 178: Scion xD Hatchback 2012\n",
            "Car Model 179: Spyker C8 Convertible 2009\n",
            "Car Model 180: Spyker C8 Coupe 2009\n",
            "Car Model 181: Suzuki Aerio Sedan 2007\n",
            "Car Model 182: Suzuki Kizashi Sedan 2012\n",
            "Car Model 183: Suzuki SX4 Hatchback 2012\n",
            "Car Model 184: Suzuki SX4 Sedan 2012\n",
            "Car Model 185: Tesla Model S Sedan 2012\n",
            "Car Model 186: Toyota Sequoia SUV 2012\n",
            "Car Model 187: Toyota Camry Sedan 2012\n",
            "Car Model 188: Toyota Corolla Sedan 2012\n",
            "Car Model 189: Toyota 4Runner SUV 2012\n",
            "Car Model 190: Volkswagen Golf Hatchback 2012\n",
            "Car Model 191: Volkswagen Golf Hatchback 1991\n",
            "Car Model 192: Volkswagen Beetle Hatchback 2012\n",
            "Car Model 193: Volvo C30 Hatchback 2012\n",
            "Car Model 194: Volvo 240 Sedan 1993\n",
            "Car Model 195: Volvo XC90 SUV 2007\n",
            "Car Model 196: smart fortwo Convertible 2012\n",
            "...\n",
            "There are a total of 196 cars\n"
          ]
        }
      ]
    },
    {
      "cell_type": "code",
      "source": [
        "labels = loadmat('./labels/devkit/cars_train_annos.mat')\n",
        "\n",
        "trainLabels = [[row.flat[0] for row in line] for line in labels['annotations'][0]]\n",
        "columns = ['x1', 'y1', 'x2', 'y2', 'class', 'file_name']\n",
        "bounding_labels = pd.DataFrame(trainLabels, columns=columns)\n",
        "bounding_labels.head(10)"
      ],
      "metadata": {
        "colab": {
          "base_uri": "https://localhost:8080/",
          "height": 363
        },
        "id": "Dt8DcezFHIPM",
        "outputId": "20f2af63-c37c-48c4-8065-24cbca9112a3"
      },
      "execution_count": 44,
      "outputs": [
        {
          "output_type": "execute_result",
          "data": {
            "text/plain": [
              "    x1   y1    x2    y2  class  file_name\n",
              "0   39  116   569   375     14  00001.jpg\n",
              "1   36  116   868   587      3  00002.jpg\n",
              "2   85  109   601   381     91  00003.jpg\n",
              "3  621  393  1484  1096   -122  00004.jpg\n",
              "4   14   36   133    99    106  00005.jpg\n",
              "5  259  289   515   416    123  00006.jpg\n",
              "6   88   80   541   397     89  00007.jpg\n",
              "7   73   79   591   410     96  00008.jpg\n",
              "8   20  126  1269   771    -89  00009.jpg\n",
              "9   21  110   623   367     58  00010.jpg"
            ],
            "text/html": [
              "\n",
              "  <div id=\"df-389534e2-70ce-46eb-9a8d-2fdd059b653e\">\n",
              "    <div class=\"colab-df-container\">\n",
              "      <div>\n",
              "<style scoped>\n",
              "    .dataframe tbody tr th:only-of-type {\n",
              "        vertical-align: middle;\n",
              "    }\n",
              "\n",
              "    .dataframe tbody tr th {\n",
              "        vertical-align: top;\n",
              "    }\n",
              "\n",
              "    .dataframe thead th {\n",
              "        text-align: right;\n",
              "    }\n",
              "</style>\n",
              "<table border=\"1\" class=\"dataframe\">\n",
              "  <thead>\n",
              "    <tr style=\"text-align: right;\">\n",
              "      <th></th>\n",
              "      <th>x1</th>\n",
              "      <th>y1</th>\n",
              "      <th>x2</th>\n",
              "      <th>y2</th>\n",
              "      <th>class</th>\n",
              "      <th>file_name</th>\n",
              "    </tr>\n",
              "  </thead>\n",
              "  <tbody>\n",
              "    <tr>\n",
              "      <th>0</th>\n",
              "      <td>39</td>\n",
              "      <td>116</td>\n",
              "      <td>569</td>\n",
              "      <td>375</td>\n",
              "      <td>14</td>\n",
              "      <td>00001.jpg</td>\n",
              "    </tr>\n",
              "    <tr>\n",
              "      <th>1</th>\n",
              "      <td>36</td>\n",
              "      <td>116</td>\n",
              "      <td>868</td>\n",
              "      <td>587</td>\n",
              "      <td>3</td>\n",
              "      <td>00002.jpg</td>\n",
              "    </tr>\n",
              "    <tr>\n",
              "      <th>2</th>\n",
              "      <td>85</td>\n",
              "      <td>109</td>\n",
              "      <td>601</td>\n",
              "      <td>381</td>\n",
              "      <td>91</td>\n",
              "      <td>00003.jpg</td>\n",
              "    </tr>\n",
              "    <tr>\n",
              "      <th>3</th>\n",
              "      <td>621</td>\n",
              "      <td>393</td>\n",
              "      <td>1484</td>\n",
              "      <td>1096</td>\n",
              "      <td>-122</td>\n",
              "      <td>00004.jpg</td>\n",
              "    </tr>\n",
              "    <tr>\n",
              "      <th>4</th>\n",
              "      <td>14</td>\n",
              "      <td>36</td>\n",
              "      <td>133</td>\n",
              "      <td>99</td>\n",
              "      <td>106</td>\n",
              "      <td>00005.jpg</td>\n",
              "    </tr>\n",
              "    <tr>\n",
              "      <th>5</th>\n",
              "      <td>259</td>\n",
              "      <td>289</td>\n",
              "      <td>515</td>\n",
              "      <td>416</td>\n",
              "      <td>123</td>\n",
              "      <td>00006.jpg</td>\n",
              "    </tr>\n",
              "    <tr>\n",
              "      <th>6</th>\n",
              "      <td>88</td>\n",
              "      <td>80</td>\n",
              "      <td>541</td>\n",
              "      <td>397</td>\n",
              "      <td>89</td>\n",
              "      <td>00007.jpg</td>\n",
              "    </tr>\n",
              "    <tr>\n",
              "      <th>7</th>\n",
              "      <td>73</td>\n",
              "      <td>79</td>\n",
              "      <td>591</td>\n",
              "      <td>410</td>\n",
              "      <td>96</td>\n",
              "      <td>00008.jpg</td>\n",
              "    </tr>\n",
              "    <tr>\n",
              "      <th>8</th>\n",
              "      <td>20</td>\n",
              "      <td>126</td>\n",
              "      <td>1269</td>\n",
              "      <td>771</td>\n",
              "      <td>-89</td>\n",
              "      <td>00009.jpg</td>\n",
              "    </tr>\n",
              "    <tr>\n",
              "      <th>9</th>\n",
              "      <td>21</td>\n",
              "      <td>110</td>\n",
              "      <td>623</td>\n",
              "      <td>367</td>\n",
              "      <td>58</td>\n",
              "      <td>00010.jpg</td>\n",
              "    </tr>\n",
              "  </tbody>\n",
              "</table>\n",
              "</div>\n",
              "      <button class=\"colab-df-convert\" onclick=\"convertToInteractive('df-389534e2-70ce-46eb-9a8d-2fdd059b653e')\"\n",
              "              title=\"Convert this dataframe to an interactive table.\"\n",
              "              style=\"display:none;\">\n",
              "        \n",
              "  <svg xmlns=\"http://www.w3.org/2000/svg\" height=\"24px\"viewBox=\"0 0 24 24\"\n",
              "       width=\"24px\">\n",
              "    <path d=\"M0 0h24v24H0V0z\" fill=\"none\"/>\n",
              "    <path d=\"M18.56 5.44l.94 2.06.94-2.06 2.06-.94-2.06-.94-.94-2.06-.94 2.06-2.06.94zm-11 1L8.5 8.5l.94-2.06 2.06-.94-2.06-.94L8.5 2.5l-.94 2.06-2.06.94zm10 10l.94 2.06.94-2.06 2.06-.94-2.06-.94-.94-2.06-.94 2.06-2.06.94z\"/><path d=\"M17.41 7.96l-1.37-1.37c-.4-.4-.92-.59-1.43-.59-.52 0-1.04.2-1.43.59L10.3 9.45l-7.72 7.72c-.78.78-.78 2.05 0 2.83L4 21.41c.39.39.9.59 1.41.59.51 0 1.02-.2 1.41-.59l7.78-7.78 2.81-2.81c.8-.78.8-2.07 0-2.86zM5.41 20L4 18.59l7.72-7.72 1.47 1.35L5.41 20z\"/>\n",
              "  </svg>\n",
              "      </button>\n",
              "      \n",
              "  <style>\n",
              "    .colab-df-container {\n",
              "      display:flex;\n",
              "      flex-wrap:wrap;\n",
              "      gap: 12px;\n",
              "    }\n",
              "\n",
              "    .colab-df-convert {\n",
              "      background-color: #E8F0FE;\n",
              "      border: none;\n",
              "      border-radius: 50%;\n",
              "      cursor: pointer;\n",
              "      display: none;\n",
              "      fill: #1967D2;\n",
              "      height: 32px;\n",
              "      padding: 0 0 0 0;\n",
              "      width: 32px;\n",
              "    }\n",
              "\n",
              "    .colab-df-convert:hover {\n",
              "      background-color: #E2EBFA;\n",
              "      box-shadow: 0px 1px 2px rgba(60, 64, 67, 0.3), 0px 1px 3px 1px rgba(60, 64, 67, 0.15);\n",
              "      fill: #174EA6;\n",
              "    }\n",
              "\n",
              "    [theme=dark] .colab-df-convert {\n",
              "      background-color: #3B4455;\n",
              "      fill: #D2E3FC;\n",
              "    }\n",
              "\n",
              "    [theme=dark] .colab-df-convert:hover {\n",
              "      background-color: #434B5C;\n",
              "      box-shadow: 0px 1px 3px 1px rgba(0, 0, 0, 0.15);\n",
              "      filter: drop-shadow(0px 1px 2px rgba(0, 0, 0, 0.3));\n",
              "      fill: #FFFFFF;\n",
              "    }\n",
              "  </style>\n",
              "\n",
              "      <script>\n",
              "        const buttonEl =\n",
              "          document.querySelector('#df-389534e2-70ce-46eb-9a8d-2fdd059b653e button.colab-df-convert');\n",
              "        buttonEl.style.display =\n",
              "          google.colab.kernel.accessAllowed ? 'block' : 'none';\n",
              "\n",
              "        async function convertToInteractive(key) {\n",
              "          const element = document.querySelector('#df-389534e2-70ce-46eb-9a8d-2fdd059b653e');\n",
              "          const dataTable =\n",
              "            await google.colab.kernel.invokeFunction('convertToInteractive',\n",
              "                                                     [key], {});\n",
              "          if (!dataTable) return;\n",
              "\n",
              "          const docLinkHtml = 'Like what you see? Visit the ' +\n",
              "            '<a target=\"_blank\" href=https://colab.research.google.com/notebooks/data_table.ipynb>data table notebook</a>'\n",
              "            + ' to learn more about interactive tables.';\n",
              "          element.innerHTML = '';\n",
              "          dataTable['output_type'] = 'display_data';\n",
              "          await google.colab.output.renderOutput(dataTable, element);\n",
              "          const docLink = document.createElement('div');\n",
              "          docLink.innerHTML = docLinkHtml;\n",
              "          element.appendChild(docLink);\n",
              "        }\n",
              "      </script>\n",
              "    </div>\n",
              "  </div>\n",
              "  "
            ]
          },
          "metadata": {},
          "execution_count": 44
        }
      ]
    },
    {
      "cell_type": "code",
      "source": [
        "lf = loadmat('/content/labels/devkit/cars_test_annos.mat')\n",
        "testLabels = [[row.flat[0] for row in line] for line in lf['annotations'][0]]\n",
        "\n",
        "#Test labels class and fname\n",
        "with open('anno_test.csv') as csv_file:\n",
        "    read = csv.reader(csv_file, delimiter=',')\n",
        "    testDict = {}\n",
        "    classCount = 1\n",
        "    for row in read:\n",
        "        testDict.update({row[0]:row[5]})\n",
        "        classCount = classCount + 1\n",
        "    print(len(testDict), 'processed')\n",
        "\n",
        "columns = ['x1', 'y1', 'x2', 'y2', 'file_name']\n",
        "testing = pd.DataFrame(testLabels, columns=columns)\n",
        "testing.head(10)"
      ],
      "metadata": {
        "colab": {
          "base_uri": "https://localhost:8080/",
          "height": 380
        },
        "id": "FzznOs0JVt0q",
        "outputId": "8ca94ef2-d4e0-46de-c32c-09b2f54a4115"
      },
      "execution_count": 70,
      "outputs": [
        {
          "output_type": "stream",
          "name": "stdout",
          "text": [
            "8041 processed\n"
          ]
        },
        {
          "output_type": "execute_result",
          "data": {
            "text/plain": [
              "    x1   y1    x2    y2  file_name\n",
              "0   30   52   246   147  00001.jpg\n",
              "1  100   19   576   203  00002.jpg\n",
              "2   51  105   968   659  00003.jpg\n",
              "3   67   84   581   407  00004.jpg\n",
              "4  140  151   593   339  00005.jpg\n",
              "5   20   77   420   301  00006.jpg\n",
              "6  249  166  2324  1459  00007.jpg\n",
              "7  119  215  1153   719  00008.jpg\n",
              "8    1    7   275   183  00009.jpg\n",
              "9   28   55   241   177  00010.jpg"
            ],
            "text/html": [
              "\n",
              "  <div id=\"df-5bb1bf96-936b-4b7d-b8cd-504280ed2471\">\n",
              "    <div class=\"colab-df-container\">\n",
              "      <div>\n",
              "<style scoped>\n",
              "    .dataframe tbody tr th:only-of-type {\n",
              "        vertical-align: middle;\n",
              "    }\n",
              "\n",
              "    .dataframe tbody tr th {\n",
              "        vertical-align: top;\n",
              "    }\n",
              "\n",
              "    .dataframe thead th {\n",
              "        text-align: right;\n",
              "    }\n",
              "</style>\n",
              "<table border=\"1\" class=\"dataframe\">\n",
              "  <thead>\n",
              "    <tr style=\"text-align: right;\">\n",
              "      <th></th>\n",
              "      <th>x1</th>\n",
              "      <th>y1</th>\n",
              "      <th>x2</th>\n",
              "      <th>y2</th>\n",
              "      <th>file_name</th>\n",
              "    </tr>\n",
              "  </thead>\n",
              "  <tbody>\n",
              "    <tr>\n",
              "      <th>0</th>\n",
              "      <td>30</td>\n",
              "      <td>52</td>\n",
              "      <td>246</td>\n",
              "      <td>147</td>\n",
              "      <td>00001.jpg</td>\n",
              "    </tr>\n",
              "    <tr>\n",
              "      <th>1</th>\n",
              "      <td>100</td>\n",
              "      <td>19</td>\n",
              "      <td>576</td>\n",
              "      <td>203</td>\n",
              "      <td>00002.jpg</td>\n",
              "    </tr>\n",
              "    <tr>\n",
              "      <th>2</th>\n",
              "      <td>51</td>\n",
              "      <td>105</td>\n",
              "      <td>968</td>\n",
              "      <td>659</td>\n",
              "      <td>00003.jpg</td>\n",
              "    </tr>\n",
              "    <tr>\n",
              "      <th>3</th>\n",
              "      <td>67</td>\n",
              "      <td>84</td>\n",
              "      <td>581</td>\n",
              "      <td>407</td>\n",
              "      <td>00004.jpg</td>\n",
              "    </tr>\n",
              "    <tr>\n",
              "      <th>4</th>\n",
              "      <td>140</td>\n",
              "      <td>151</td>\n",
              "      <td>593</td>\n",
              "      <td>339</td>\n",
              "      <td>00005.jpg</td>\n",
              "    </tr>\n",
              "    <tr>\n",
              "      <th>5</th>\n",
              "      <td>20</td>\n",
              "      <td>77</td>\n",
              "      <td>420</td>\n",
              "      <td>301</td>\n",
              "      <td>00006.jpg</td>\n",
              "    </tr>\n",
              "    <tr>\n",
              "      <th>6</th>\n",
              "      <td>249</td>\n",
              "      <td>166</td>\n",
              "      <td>2324</td>\n",
              "      <td>1459</td>\n",
              "      <td>00007.jpg</td>\n",
              "    </tr>\n",
              "    <tr>\n",
              "      <th>7</th>\n",
              "      <td>119</td>\n",
              "      <td>215</td>\n",
              "      <td>1153</td>\n",
              "      <td>719</td>\n",
              "      <td>00008.jpg</td>\n",
              "    </tr>\n",
              "    <tr>\n",
              "      <th>8</th>\n",
              "      <td>1</td>\n",
              "      <td>7</td>\n",
              "      <td>275</td>\n",
              "      <td>183</td>\n",
              "      <td>00009.jpg</td>\n",
              "    </tr>\n",
              "    <tr>\n",
              "      <th>9</th>\n",
              "      <td>28</td>\n",
              "      <td>55</td>\n",
              "      <td>241</td>\n",
              "      <td>177</td>\n",
              "      <td>00010.jpg</td>\n",
              "    </tr>\n",
              "  </tbody>\n",
              "</table>\n",
              "</div>\n",
              "      <button class=\"colab-df-convert\" onclick=\"convertToInteractive('df-5bb1bf96-936b-4b7d-b8cd-504280ed2471')\"\n",
              "              title=\"Convert this dataframe to an interactive table.\"\n",
              "              style=\"display:none;\">\n",
              "        \n",
              "  <svg xmlns=\"http://www.w3.org/2000/svg\" height=\"24px\"viewBox=\"0 0 24 24\"\n",
              "       width=\"24px\">\n",
              "    <path d=\"M0 0h24v24H0V0z\" fill=\"none\"/>\n",
              "    <path d=\"M18.56 5.44l.94 2.06.94-2.06 2.06-.94-2.06-.94-.94-2.06-.94 2.06-2.06.94zm-11 1L8.5 8.5l.94-2.06 2.06-.94-2.06-.94L8.5 2.5l-.94 2.06-2.06.94zm10 10l.94 2.06.94-2.06 2.06-.94-2.06-.94-.94-2.06-.94 2.06-2.06.94z\"/><path d=\"M17.41 7.96l-1.37-1.37c-.4-.4-.92-.59-1.43-.59-.52 0-1.04.2-1.43.59L10.3 9.45l-7.72 7.72c-.78.78-.78 2.05 0 2.83L4 21.41c.39.39.9.59 1.41.59.51 0 1.02-.2 1.41-.59l7.78-7.78 2.81-2.81c.8-.78.8-2.07 0-2.86zM5.41 20L4 18.59l7.72-7.72 1.47 1.35L5.41 20z\"/>\n",
              "  </svg>\n",
              "      </button>\n",
              "      \n",
              "  <style>\n",
              "    .colab-df-container {\n",
              "      display:flex;\n",
              "      flex-wrap:wrap;\n",
              "      gap: 12px;\n",
              "    }\n",
              "\n",
              "    .colab-df-convert {\n",
              "      background-color: #E8F0FE;\n",
              "      border: none;\n",
              "      border-radius: 50%;\n",
              "      cursor: pointer;\n",
              "      display: none;\n",
              "      fill: #1967D2;\n",
              "      height: 32px;\n",
              "      padding: 0 0 0 0;\n",
              "      width: 32px;\n",
              "    }\n",
              "\n",
              "    .colab-df-convert:hover {\n",
              "      background-color: #E2EBFA;\n",
              "      box-shadow: 0px 1px 2px rgba(60, 64, 67, 0.3), 0px 1px 3px 1px rgba(60, 64, 67, 0.15);\n",
              "      fill: #174EA6;\n",
              "    }\n",
              "\n",
              "    [theme=dark] .colab-df-convert {\n",
              "      background-color: #3B4455;\n",
              "      fill: #D2E3FC;\n",
              "    }\n",
              "\n",
              "    [theme=dark] .colab-df-convert:hover {\n",
              "      background-color: #434B5C;\n",
              "      box-shadow: 0px 1px 3px 1px rgba(0, 0, 0, 0.15);\n",
              "      filter: drop-shadow(0px 1px 2px rgba(0, 0, 0, 0.3));\n",
              "      fill: #FFFFFF;\n",
              "    }\n",
              "  </style>\n",
              "\n",
              "      <script>\n",
              "        const buttonEl =\n",
              "          document.querySelector('#df-5bb1bf96-936b-4b7d-b8cd-504280ed2471 button.colab-df-convert');\n",
              "        buttonEl.style.display =\n",
              "          google.colab.kernel.accessAllowed ? 'block' : 'none';\n",
              "\n",
              "        async function convertToInteractive(key) {\n",
              "          const element = document.querySelector('#df-5bb1bf96-936b-4b7d-b8cd-504280ed2471');\n",
              "          const dataTable =\n",
              "            await google.colab.kernel.invokeFunction('convertToInteractive',\n",
              "                                                     [key], {});\n",
              "          if (!dataTable) return;\n",
              "\n",
              "          const docLinkHtml = 'Like what you see? Visit the ' +\n",
              "            '<a target=\"_blank\" href=https://colab.research.google.com/notebooks/data_table.ipynb>data table notebook</a>'\n",
              "            + ' to learn more about interactive tables.';\n",
              "          element.innerHTML = '';\n",
              "          dataTable['output_type'] = 'display_data';\n",
              "          await google.colab.output.renderOutput(dataTable, element);\n",
              "          const docLink = document.createElement('div');\n",
              "          docLink.innerHTML = docLinkHtml;\n",
              "          element.appendChild(docLink);\n",
              "        }\n",
              "      </script>\n",
              "    </div>\n",
              "  </div>\n",
              "  "
            ]
          },
          "metadata": {},
          "execution_count": 70
        }
      ]
    },
    {
      "cell_type": "code",
      "source": [
        "bounding_labels['class'] = bounding_labels['class'].apply(lambda x: x + 256 if x < 0 else x)"
      ],
      "metadata": {
        "id": "B6VwGwHnSTZ2"
      },
      "execution_count": 51,
      "outputs": []
    },
    {
      "cell_type": "code",
      "source": [
        "bounding_labels['class'].max()"
      ],
      "metadata": {
        "colab": {
          "base_uri": "https://localhost:8080/"
        },
        "id": "CyFfYRlhR0st",
        "outputId": "919993c6-882f-494b-8301-0e8983d1c8a9"
      },
      "execution_count": 53,
      "outputs": [
        {
          "output_type": "execute_result",
          "data": {
            "text/plain": [
              "196"
            ]
          },
          "metadata": {},
          "execution_count": 53
        }
      ]
    },
    {
      "cell_type": "code",
      "source": [
        "classDict.keys()"
      ],
      "metadata": {
        "colab": {
          "base_uri": "https://localhost:8080/"
        },
        "id": "7R_dqYl2Pt0L",
        "outputId": "d81962bc-f8ab-4e07-98bc-634496693835"
      },
      "execution_count": 55,
      "outputs": [
        {
          "output_type": "execute_result",
          "data": {
            "text/plain": [
              "dict_keys([1, 2, 3, 4, 5, 6, 7, 8, 9, 10, 11, 12, 13, 14, 15, 16, 17, 18, 19, 20, 21, 22, 23, 24, 25, 26, 27, 28, 29, 30, 31, 32, 33, 34, 35, 36, 37, 38, 39, 40, 41, 42, 43, 44, 45, 46, 47, 48, 49, 50, 51, 52, 53, 54, 55, 56, 57, 58, 59, 60, 61, 62, 63, 64, 65, 66, 67, 68, 69, 70, 71, 72, 73, 74, 75, 76, 77, 78, 79, 80, 81, 82, 83, 84, 85, 86, 87, 88, 89, 90, 91, 92, 93, 94, 95, 96, 97, 98, 99, 100, 101, 102, 103, 104, 105, 106, 107, 108, 109, 110, 111, 112, 113, 114, 115, 116, 117, 118, 119, 120, 121, 122, 123, 124, 125, 126, 127, 128, 129, 130, 131, 132, 133, 134, 135, 136, 137, 138, 139, 140, 141, 142, 143, 144, 145, 146, 147, 148, 149, 150, 151, 152, 153, 154, 155, 156, 157, 158, 159, 160, 161, 162, 163, 164, 165, 166, 167, 168, 169, 170, 171, 172, 173, 174, 175, 176, 177, 178, 179, 180, 181, 182, 183, 184, 185, 186, 187, 188, 189, 190, 191, 192, 193, 194, 195, 196])"
            ]
          },
          "metadata": {},
          "execution_count": 55
        }
      ]
    },
    {
      "cell_type": "code",
      "source": [
        "print(f\"There are {len(trainLabels)} images in the training set.\")"
      ],
      "metadata": {
        "colab": {
          "base_uri": "https://localhost:8080/"
        },
        "id": "F8SskM-xJGcf",
        "outputId": "e78d1b17-8dd9-4d7b-d63d-47f483e183f4"
      },
      "execution_count": 56,
      "outputs": [
        {
          "output_type": "stream",
          "name": "stdout",
          "text": [
            "There are 8144 images in the training set.\n"
          ]
        }
      ]
    },
    {
      "cell_type": "code",
      "source": [
        "training, validation = train_test_split(bounding_labels, stratify=bounding_labels['class'], test_size=0.2)\n",
        "print(f'There are {len(training)} in training set.')\n",
        "print(f'There are {len(validation)} in validation set.')"
      ],
      "metadata": {
        "colab": {
          "base_uri": "https://localhost:8080/"
        },
        "id": "rC23j5otLq_O",
        "outputId": "a67b2e32-4934-4f15-98ce-ac0471db26a7"
      },
      "execution_count": 57,
      "outputs": [
        {
          "output_type": "stream",
          "name": "stdout",
          "text": [
            "There are 6515 in training set.\n",
            "There are 1629 in validation set.\n"
          ]
        }
      ]
    },
    {
      "cell_type": "code",
      "source": [
        "from re import L\n",
        "'''\n",
        "I will save to our shared drive folder.\n",
        "This cell will crop the images based on their bounding boxes, and append \n",
        "stratified 20% of all images to a validation set that is used for hyperparameter tuning.\n",
        "'''\n",
        "train_save_path = '/content/drive/Shareddrives/ML/preprocessed/train'\n",
        "val_save_path = '/content/drive/Shareddrives/ML/preprocessed/val'\n",
        "Path(train_save_path).mkdir(parents=True, exist_ok=True)\n",
        "Path(val_save_path).mkdir(parents=True, exist_ok=True)\n",
        "\n",
        "progress = tqdm(total=len(training))\n",
        "counter = 0\n",
        "print('Processing and cropping training images')\n",
        "for index, row in training.iterrows():\n",
        "  x1 = row['x1']\n",
        "  y1 = row['y1']\n",
        "  x2 = row['x2']\n",
        "  y2 = row['y2']\n",
        "  class_name = row['class']\n",
        "  file_name = row['file_name']\n",
        "  location = f'./train/cars_train/{file_name}'\n",
        "  class_label = classDict.get(class_name) + '/'\n",
        "  saveDir = f'{train_save_path}/{class_label}'\n",
        "  image = PIL.Image.open(location)\n",
        "  region = image.crop((x1, y1, x2, y2))\n",
        "  Path(saveDir).mkdir(parents=True, exist_ok=True)\n",
        "  saveAddress = saveDir + file_name\n",
        "  region.save(saveAddress)\n",
        "  counter += 1\n",
        "  progress.update(1)\n",
        "\n",
        "progress.close()\n",
        "print('Finished processing and cropping training images')\n",
        "print('All images have been saved to ', train_save_path)"
      ],
      "metadata": {
        "colab": {
          "base_uri": "https://localhost:8080/"
        },
        "id": "UsUsHE6XIAJ1",
        "outputId": "2a04b3eb-c653-4ba5-8f4c-ef8d5a68e4dc"
      },
      "execution_count": 63,
      "outputs": [
        {
          "output_type": "stream",
          "name": "stderr",
          "text": [
            "  5%|▌         | 330/6515 [00:19<06:06, 16.85it/s]\n"
          ]
        },
        {
          "output_type": "stream",
          "name": "stdout",
          "text": [
            "Processing and cropping training images\n"
          ]
        },
        {
          "output_type": "stream",
          "name": "stderr",
          "text": [
            "100%|██████████| 6515/6515 [03:21<00:00, 32.37it/s]"
          ]
        },
        {
          "output_type": "stream",
          "name": "stdout",
          "text": [
            "Finished processing and cropping training images\n",
            "All images have been saved to  /content/drive/Shareddrives/ML/preprocessed/train\n"
          ]
        },
        {
          "output_type": "stream",
          "name": "stderr",
          "text": [
            "\n"
          ]
        }
      ]
    },
    {
      "cell_type": "code",
      "source": [
        "progress = tqdm(total=len(validation))\n",
        "counter = 0\n",
        "print('Processing and cropping validation images')\n",
        "for index, row in validation.iterrows():\n",
        "  x1 = row['x1']\n",
        "  y1 = row['y1']\n",
        "  x2 = row['x2']\n",
        "  y2 = row['y2']\n",
        "  class_name = row['class']\n",
        "  file_name = row['file_name']\n",
        "  location = f'./train/cars_train/{file_name}'\n",
        "  class_label = classDict.get(class_name) + '/'\n",
        "  saveDir = f'{val_save_path}/{class_label}'\n",
        "  image = PIL.Image.open(location)\n",
        "  region = image.crop((x1, y1, x2, y2))\n",
        "  Path(saveDir).mkdir(parents=True, exist_ok=True)\n",
        "  saveAddress = saveDir + file_name\n",
        "  region.save(saveAddress)\n",
        "  counter += 1\n",
        "  progress.update(1)\n",
        "\n",
        "progress.close()\n",
        "print('Finished processing and cropping validation images')\n",
        "print('All images have been saved to ', val_save_path)"
      ],
      "metadata": {
        "colab": {
          "base_uri": "https://localhost:8080/"
        },
        "id": "J7Avy90bMHF4",
        "outputId": "fe43ca97-78d1-4dac-fc3f-98719b7a7ff7"
      },
      "execution_count": 64,
      "outputs": [
        {
          "output_type": "stream",
          "name": "stderr",
          "text": [
            "\r  0%|          | 0/1629 [00:00<?, ?it/s]"
          ]
        },
        {
          "output_type": "stream",
          "name": "stdout",
          "text": [
            "Processing and cropping validation images\n"
          ]
        },
        {
          "output_type": "stream",
          "name": "stderr",
          "text": [
            "100%|██████████| 1629/1629 [00:47<00:00, 34.43it/s]"
          ]
        },
        {
          "output_type": "stream",
          "name": "stdout",
          "text": [
            "Finished processing and cropping validation images\n",
            "All images have been saved to  /content/drive/Shareddrives/ML/preprocessed/val\n"
          ]
        },
        {
          "output_type": "stream",
          "name": "stderr",
          "text": [
            "\n"
          ]
        }
      ]
    },
    {
      "cell_type": "code",
      "source": [
        "\"\"\"\n",
        "Preprocess Testing Images\n",
        "Gets all training images and crops by bounding box, saves to a new directory\n",
        "\"\"\"\n",
        "test_save_path = '/content/drive/Shareddrives/ML/preprocessed/test_4'\n",
        "test_save_path_uncropped = '/content/drive/Shareddrives/ML/preprocessed/test_uncropped_4'\n",
        "Path(test_save_path).mkdir(parents=True, exist_ok=True)\n",
        "print(len(testLabels), \"images to process.\")\n",
        "\n",
        "count = 1\n",
        "progress = tqdm(total=len(testLabels))\n",
        "for l in testLabels:\n",
        "    x1 = l[0]\n",
        "    y1 = l[1]\n",
        "    x2 = l[2]\n",
        "    y2 = l[3]\n",
        "    filename = l[4]\n",
        "    c_num = testDict.get(filename)\n",
        "    classAppend = classDict.get(int(c_num)) + '/'\n",
        "    address = \"./test/cars_test/\" + filename\n",
        "    saveDir = test_save_path + '/' + classAppend\n",
        "    saveDir_uncropped = test_save_path_uncropped + '/' + classAppend\n",
        "    im = PIL.Image.open(address)\n",
        "    region = im.crop((x1, y1, x2, y2))\n",
        "    Path(saveDir).mkdir(parents=True, exist_ok=True)\n",
        "    Path(saveDir_uncropped).mkdir(parents=True, exist_ok=True)\n",
        "    saveAddress = saveDir + filename\n",
        "    saveAddress2 = saveDir_uncropped + filename\n",
        "    im.save(saveAddress2)\n",
        "    region.save(saveAddress)    \n",
        "    count = count + 1\n",
        "    progress.update(1)\n",
        "progress.close()\n",
        "print('Finished processing and cropping testing images')\n",
        "print('All processed images have been saved to ', test_save_path)\n",
        "print('All raw images have been saved to ', test_save_path_uncropped)"
      ],
      "metadata": {
        "colab": {
          "base_uri": "https://localhost:8080/"
        },
        "id": "xeoqEXovUrCM",
        "outputId": "f3f8bde2-204f-4f33-b08b-00775081a805"
      },
      "execution_count": 80,
      "outputs": [
        {
          "output_type": "stream",
          "name": "stdout",
          "text": [
            "8041 images to process.\n"
          ]
        },
        {
          "output_type": "stream",
          "name": "stderr",
          "text": [
            "  1%|          | 76/8041 [00:23<40:39,  3.27it/s]\n",
            "100%|██████████| 8041/8041 [07:25<00:00, 18.05it/s]"
          ]
        },
        {
          "output_type": "stream",
          "name": "stdout",
          "text": [
            "Finished processing and cropping testing images\n",
            "All processed images have been saved to  /content/drive/Shareddrives/ML/preprocessed/test_4\n",
            "All raw images have been saved to  /content/drive/Shareddrives/ML/preprocessed/test_uncropped_4\n"
          ]
        },
        {
          "output_type": "stream",
          "name": "stderr",
          "text": [
            "\n"
          ]
        }
      ]
    },
    {
      "cell_type": "code",
      "source": [
        ""
      ],
      "metadata": {
        "id": "e4and4W3YZLb"
      },
      "execution_count": null,
      "outputs": []
    }
  ]
}